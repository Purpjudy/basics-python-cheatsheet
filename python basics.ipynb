{
 "cells": [
  {
   "cell_type": "code",
   "execution_count": 365,
   "id": "b58b2176",
   "metadata": {},
   "outputs": [
    {
     "data": {
      "text/plain": [
       "{'dept': 'Engineering', 'no_of_pple': 20, 'Awards': 'none'}"
      ]
     },
     "execution_count": 365,
     "metadata": {},
     "output_type": "execute_result"
    }
   ],
   "source": [
    "#used alot to create keys and assign values..... note dept is called a key and engineering is a value which is separated by a comma\n",
    "dict_variable = {'dept' : 'Engineering', 'no_of_pple' : 20, 'Awards' : 'none'}\n",
    "dict_variable"
   ]
  },
  {
   "cell_type": "code",
   "execution_count": 366,
   "id": "6e978454",
   "metadata": {},
   "outputs": [
    {
     "data": {
      "text/plain": [
       "'Engineering'"
      ]
     },
     "execution_count": 366,
     "metadata": {},
     "output_type": "execute_result"
    }
   ],
   "source": [
    "#use square rackets to return values from the dictionary\n",
    "dict_variable['dept']"
   ]
  },
  {
   "cell_type": "code",
   "execution_count": 367,
   "id": "1c2e383c",
   "metadata": {},
   "outputs": [
    {
     "data": {
      "text/plain": [
       "(5, 3, 983, 443, 8373)"
      ]
     },
     "execution_count": 367,
     "metadata": {},
     "output_type": "execute_result"
    }
   ],
   "source": [
    "#how to convert a tuple into alist\n",
    "list = [5,3,983,443,8373]\n",
    "#conversion\n",
    "tuple(list)"
   ]
  },
  {
   "cell_type": "markdown",
   "id": "176a9176",
   "metadata": {},
   "source": [
    "# 1.List"
   ]
  },
  {
   "cell_type": "code",
   "execution_count": 368,
   "id": "7d8115dc",
   "metadata": {},
   "outputs": [],
   "source": [
    "#create\n",
    "spares = ['clamp', 'bearings', 'orings', 'valve', 'reducer', 'connector']\n"
   ]
  },
  {
   "cell_type": "code",
   "execution_count": 369,
   "id": "e3086bb5",
   "metadata": {},
   "outputs": [
    {
     "data": {
      "text/plain": [
       "['clamp', 'bearings', 'orings', 'valve', 'reducer', 'connector']"
      ]
     },
     "execution_count": 369,
     "metadata": {},
     "output_type": "execute_result"
    }
   ],
   "source": [
    "#read\n",
    "spares"
   ]
  },
  {
   "cell_type": "code",
   "execution_count": 370,
   "id": "cd476b1a",
   "metadata": {},
   "outputs": [
    {
     "data": {
      "text/plain": [
       "'bearings'"
      ]
     },
     "execution_count": 370,
     "metadata": {},
     "output_type": "execute_result"
    }
   ],
   "source": [
    "spares[1]"
   ]
  },
  {
   "cell_type": "code",
   "execution_count": 371,
   "id": "ff1deef7",
   "metadata": {},
   "outputs": [
    {
     "data": {
      "text/plain": [
       "'reducer'"
      ]
     },
     "execution_count": 371,
     "metadata": {},
     "output_type": "execute_result"
    }
   ],
   "source": [
    "spares[-2]"
   ]
  },
  {
   "cell_type": "code",
   "execution_count": 372,
   "id": "3a6184c7",
   "metadata": {},
   "outputs": [],
   "source": [
    "#update"
   ]
  },
  {
   "cell_type": "code",
   "execution_count": 373,
   "id": "5a7b0c9d",
   "metadata": {},
   "outputs": [
    {
     "data": {
      "text/plain": [
       "['clamp', 'bearings', 'orings', 'valve', 'reducer', 'pump']"
      ]
     },
     "execution_count": 373,
     "metadata": {},
     "output_type": "execute_result"
    }
   ],
   "source": [
    "spares[-1] = 'pump'\n",
    "spares"
   ]
  },
  {
   "cell_type": "code",
   "execution_count": 374,
   "id": "2d728ae4",
   "metadata": {},
   "outputs": [
    {
     "data": {
      "text/plain": [
       "['clamp', 'bearings', 'orings', 'valve', 'reducer', 'pump', 'connector']"
      ]
     },
     "execution_count": 374,
     "metadata": {},
     "output_type": "execute_result"
    }
   ],
   "source": [
    "#adding to list\n",
    "spares.append('connector')\n",
    "spares"
   ]
  },
  {
   "cell_type": "code",
   "execution_count": 375,
   "id": "a2c9e2c1",
   "metadata": {},
   "outputs": [
    {
     "data": {
      "text/plain": [
       "['clamp',\n",
       " 'bearings',\n",
       " 'orings',\n",
       " 'reflector',\n",
       " 'valve',\n",
       " 'reducer',\n",
       " 'pump',\n",
       " 'connector']"
      ]
     },
     "execution_count": 375,
     "metadata": {},
     "output_type": "execute_result"
    }
   ],
   "source": [
    "spares.insert(3, 'reflector')\n",
    "spares"
   ]
  },
  {
   "cell_type": "code",
   "execution_count": 376,
   "id": "e93df82c",
   "metadata": {},
   "outputs": [
    {
     "data": {
      "text/plain": [
       "['clamp', 'bearings', 'orings', 'valve', 'reducer', 'pump', 'connector']"
      ]
     },
     "execution_count": 376,
     "metadata": {},
     "output_type": "execute_result"
    }
   ],
   "source": [
    "#delete\n",
    "del spares[3]\n",
    "spares"
   ]
  },
  {
   "cell_type": "markdown",
   "id": "c0628fff",
   "metadata": {},
   "source": [
    "# 2.Dictionaries"
   ]
  },
  {
   "cell_type": "code",
   "execution_count": 377,
   "id": "fe7cc257",
   "metadata": {},
   "outputs": [],
   "source": [
    "#create\n",
    "parts = {\"name\" : \"reflector\", \n",
    "          \"area\" : \"packaging\", \n",
    "          \"usage\" : \"critical\"\n",
    "         }"
   ]
  },
  {
   "cell_type": "code",
   "execution_count": 378,
   "id": "48078ad4",
   "metadata": {},
   "outputs": [],
   "source": [
    "#read"
   ]
  },
  {
   "cell_type": "code",
   "execution_count": 379,
   "id": "226d2363",
   "metadata": {},
   "outputs": [
    {
     "data": {
      "text/plain": [
       "{'name': 'reflector', 'area': 'packaging', 'usage': 'critical'}"
      ]
     },
     "execution_count": 379,
     "metadata": {},
     "output_type": "execute_result"
    }
   ],
   "source": [
    "parts"
   ]
  },
  {
   "cell_type": "code",
   "execution_count": 380,
   "id": "3b169937",
   "metadata": {},
   "outputs": [
    {
     "data": {
      "text/plain": [
       "'packaging'"
      ]
     },
     "execution_count": 380,
     "metadata": {},
     "output_type": "execute_result"
    }
   ],
   "source": [
    "parts['area']"
   ]
  },
  {
   "cell_type": "code",
   "execution_count": 381,
   "id": "cd234a37",
   "metadata": {},
   "outputs": [
    {
     "data": {
      "text/plain": [
       "dict_keys(['name', 'area', 'usage'])"
      ]
     },
     "execution_count": 381,
     "metadata": {},
     "output_type": "execute_result"
    }
   ],
   "source": [
    "parts.keys()"
   ]
  },
  {
   "cell_type": "code",
   "execution_count": 382,
   "id": "2536037d",
   "metadata": {},
   "outputs": [
    {
     "data": {
      "text/plain": [
       "dict_values(['reflector', 'packaging', 'critical'])"
      ]
     },
     "execution_count": 382,
     "metadata": {},
     "output_type": "execute_result"
    }
   ],
   "source": [
    "parts.values()"
   ]
  },
  {
   "cell_type": "code",
   "execution_count": 383,
   "id": "df2144e2",
   "metadata": {},
   "outputs": [],
   "source": [
    "#update"
   ]
  },
  {
   "cell_type": "code",
   "execution_count": 384,
   "id": "d47623de",
   "metadata": {},
   "outputs": [],
   "source": [
    "parts['area'] = 'brewing'"
   ]
  },
  {
   "cell_type": "code",
   "execution_count": 385,
   "id": "e583e853",
   "metadata": {},
   "outputs": [
    {
     "data": {
      "text/plain": [
       "{'name': 'reflector', 'area': 'brewing', 'usage': 'critical'}"
      ]
     },
     "execution_count": 385,
     "metadata": {},
     "output_type": "execute_result"
    }
   ],
   "source": [
    "parts"
   ]
  },
  {
   "cell_type": "code",
   "execution_count": 386,
   "id": "69d638f9",
   "metadata": {},
   "outputs": [],
   "source": [
    "parts['ownership'] = 'engineering'"
   ]
  },
  {
   "cell_type": "code",
   "execution_count": 387,
   "id": "b916d71d",
   "metadata": {},
   "outputs": [
    {
     "data": {
      "text/plain": [
       "{'name': 'reflector',\n",
       " 'area': 'brewing',\n",
       " 'usage': 'critical',\n",
       " 'ownership': 'engineering'}"
      ]
     },
     "execution_count": 387,
     "metadata": {},
     "output_type": "execute_result"
    }
   ],
   "source": [
    "parts"
   ]
  },
  {
   "cell_type": "code",
   "execution_count": 388,
   "id": "0ad5e9d2",
   "metadata": {},
   "outputs": [],
   "source": [
    "#delete"
   ]
  },
  {
   "cell_type": "code",
   "execution_count": 389,
   "id": "915f043a",
   "metadata": {},
   "outputs": [],
   "source": [
    "del parts['ownership']"
   ]
  },
  {
   "cell_type": "code",
   "execution_count": 390,
   "id": "ff8c684f",
   "metadata": {},
   "outputs": [
    {
     "data": {
      "text/plain": [
       "{'name': 'reflector', 'area': 'brewing', 'usage': 'critical'}"
      ]
     },
     "execution_count": 390,
     "metadata": {},
     "output_type": "execute_result"
    }
   ],
   "source": [
    "parts"
   ]
  },
  {
   "cell_type": "markdown",
   "id": "e6e56acf",
   "metadata": {},
   "source": [
    "# 3. Conditions and Logic"
   ]
  },
  {
   "cell_type": "code",
   "execution_count": 391,
   "id": "7c436caa",
   "metadata": {},
   "outputs": [
    {
     "name": "stdout",
     "output_type": "stream",
     "text": [
      "best county\n"
     ]
    }
   ],
   "source": [
    "# IF statement... double == is a logical operator\n",
    "county = 'Nyeri'\n",
    "if county == 'Nyeri':\n",
    "    print('best county')"
   ]
  },
  {
   "cell_type": "code",
   "execution_count": 392,
   "id": "68dddc55",
   "metadata": {},
   "outputs": [
    {
     "name": "stdout",
     "output_type": "stream",
     "text": [
      "number greater than 7\n"
     ]
    }
   ],
   "source": [
    "test_number = 16\n",
    "if test_number >= 7:\n",
    "    print('number greater than 7')"
   ]
  },
  {
   "cell_type": "code",
   "execution_count": 393,
   "id": "1524874a",
   "metadata": {},
   "outputs": [
    {
     "name": "stdout",
     "output_type": "stream",
     "text": [
      "False\n"
     ]
    }
   ],
   "source": [
    "#note true and false should start in caps\n",
    "probability = 0.45\n",
    "if probability >= 0.5:\n",
    "    print(True)\n",
    "else:\n",
    "    print(False)"
   ]
  },
  {
   "cell_type": "code",
   "execution_count": 394,
   "id": "309291c4",
   "metadata": {},
   "outputs": [
    {
     "name": "stdout",
     "output_type": "stream",
     "text": [
      "False\n"
     ]
    }
   ],
   "source": [
    "probability = 0.45\n",
    "if probability >= 0.5:\n",
    "    print(True)\n",
    "elif probability < 0:\n",
    "    print('check code')\n",
    "else:\n",
    "    print(False)"
   ]
  },
  {
   "cell_type": "code",
   "execution_count": 395,
   "id": "e3c4de6b",
   "metadata": {},
   "outputs": [
    {
     "name": "stdout",
     "output_type": "stream",
     "text": [
      "valve is here\n"
     ]
    }
   ],
   "source": [
    "#to check if something is in alist\n",
    "spares = ['clamp', 'bearings', 'orings', 'valve', 'reducer', 'connector']\n",
    "if'valve' in spares:\n",
    "    print('valve is here')"
   ]
  },
  {
   "cell_type": "markdown",
   "id": "5670bbc8",
   "metadata": {},
   "source": [
    "# 4. Loops"
   ]
  },
  {
   "cell_type": "code",
   "execution_count": 396,
   "id": "ed9a0516",
   "metadata": {},
   "outputs": [
    {
     "name": "stdout",
     "output_type": "stream",
     "text": [
      "clamp\n",
      "not packaging part\n",
      "KHS parts\n",
      "\n",
      "bearings\n",
      "not packaging part\n",
      "KHS parts\n",
      "\n",
      "orings\n",
      "capper\n",
      "\n",
      "valve\n",
      "not packaging part\n",
      "KHS parts\n",
      "\n",
      "reducer\n",
      "transomat\n"
     ]
    }
   ],
   "source": [
    "#for loop\n",
    "for spare in spares:\n",
    "    print(spare)\n",
    "    if spare == 'orings':\n",
    "        print('capper\\n')\n",
    "        # the slash n is for line spacing and use of continue is to continue with a loop\n",
    "        continue\n",
    "        \n",
    "    elif spare == 'reducer':\n",
    "        print('transomat')\n",
    "        #to stop a loop and that is why we have not printed connector\n",
    "        break\n",
    "        \n",
    "    else:\n",
    "        #for the loop to do nothing\n",
    "        pass\n",
    "        print('not packaging part')\n",
    "        #outside of if statemnet block    \n",
    "        print('KHS parts\\n')"
   ]
  },
  {
   "cell_type": "code",
   "execution_count": 397,
   "id": "0131315b",
   "metadata": {},
   "outputs": [
    {
     "name": "stdout",
     "output_type": "stream",
     "text": [
      "0\n",
      "1\n",
      "2\n",
      "3\n",
      "4\n",
      "5\n",
      "6\n",
      "7\n"
     ]
    }
   ],
   "source": [
    "#range ie a loop for an x number of times\n",
    "for index in range(8):\n",
    "    print(index)"
   ]
  },
  {
   "cell_type": "code",
   "execution_count": 398,
   "id": "ca5cad15",
   "metadata": {},
   "outputs": [
    {
     "name": "stdout",
     "output_type": "stream",
     "text": [
      "2\n",
      "3\n",
      "4\n",
      "5\n",
      "6\n",
      "7\n",
      "8\n",
      "9\n",
      "10\n",
      "11\n",
      "12\n",
      "13\n"
     ]
    }
   ],
   "source": [
    "for index in range(2,14):\n",
    "    print(index)"
   ]
  },
  {
   "cell_type": "code",
   "execution_count": 399,
   "id": "6abf7288",
   "metadata": {},
   "outputs": [
    {
     "name": "stdout",
     "output_type": "stream",
     "text": [
      "consumed\n",
      "consumed\n",
      "consumed\n",
      "consumed\n",
      "consumed\n",
      "consumed\n",
      "consumed\n",
      "consumed\n",
      "consumed\n",
      "consumed\n",
      "consumed\n",
      "consumed\n",
      "consumed\n",
      "consumed\n",
      "consumed\n",
      "consumed\n",
      "all spares issued\n"
     ]
    }
   ],
   "source": [
    "#while\n",
    "spares_issued = 0\n",
    "total_spares = 16\n",
    "\n",
    "while True:\n",
    "    print ('consumed')\n",
    "    spares_issued += 1\n",
    "    \n",
    "    if spares_issued == total_spares:\n",
    "        print('all spares issued')\n",
    "        break"
   ]
  },
  {
   "cell_type": "code",
   "execution_count": 400,
   "id": "db024b98",
   "metadata": {},
   "outputs": [
    {
     "name": "stdout",
     "output_type": "stream",
     "text": [
      "spare 1 consumed\n",
      "spare 2 consumed\n",
      "spare 3 consumed\n",
      "spare 4 consumed\n",
      "spare 5 consumed\n",
      "spare 6 consumed\n",
      "spare 7 consumed\n",
      "spare 8 consumed\n",
      "spare 9 consumed\n",
      "spare 10 consumed\n",
      "spare 11 consumed\n",
      "spare 12 consumed\n",
      "spare 13 consumed\n",
      "spare 14 consumed\n",
      "spare 15 consumed\n",
      "spare 16 consumed\n",
      "all spares issued\n"
     ]
    }
   ],
   "source": [
    "spares_issued = 0\n",
    "total_spares = 16\n",
    "#string formatting\n",
    "while True:#the .format is attached to strings\n",
    "    print ('spare {} consumed'.format(spares_issued+1))\n",
    "    spares_issued += 1\n",
    "    \n",
    "    if spares_issued == total_spares:\n",
    "        print('all spares issued')\n",
    "        break"
   ]
  },
  {
   "cell_type": "code",
   "execution_count": 401,
   "id": "28ff00a3",
   "metadata": {},
   "outputs": [],
   "source": [
    "#loping through a dictionary\n",
    "parts = {\"name\" : \"reflector\", \n",
    "          \"area\" : \"packaging\", \n",
    "          \"usage\" : \"critical\"\n",
    "         }"
   ]
  },
  {
   "cell_type": "code",
   "execution_count": 402,
   "id": "5944c41b",
   "metadata": {},
   "outputs": [
    {
     "data": {
      "text/plain": [
       "dict_keys(['name', 'area', 'usage'])"
      ]
     },
     "execution_count": 402,
     "metadata": {},
     "output_type": "execute_result"
    }
   ],
   "source": [
    "parts.keys()"
   ]
  },
  {
   "cell_type": "code",
   "execution_count": 403,
   "id": "7ae9760d",
   "metadata": {},
   "outputs": [
    {
     "name": "stdout",
     "output_type": "stream",
     "text": [
      "name\n",
      "area\n",
      "usage\n"
     ]
    }
   ],
   "source": [
    "#looping through a keys\n",
    "for key in parts.keys():\n",
    "    print(key)"
   ]
  },
  {
   "cell_type": "code",
   "execution_count": 404,
   "id": "13b0fc51",
   "metadata": {},
   "outputs": [
    {
     "data": {
      "text/plain": [
       "dict_values(['reflector', 'packaging', 'critical'])"
      ]
     },
     "execution_count": 404,
     "metadata": {},
     "output_type": "execute_result"
    }
   ],
   "source": [
    "parts.values()"
   ]
  },
  {
   "cell_type": "code",
   "execution_count": 405,
   "id": "ab105154",
   "metadata": {},
   "outputs": [
    {
     "name": "stdout",
     "output_type": "stream",
     "text": [
      "reflector\n",
      "packaging\n",
      "critical\n"
     ]
    }
   ],
   "source": [
    "for value in parts.values():\n",
    "    print(value)"
   ]
  },
  {
   "cell_type": "code",
   "execution_count": 406,
   "id": "182758d3",
   "metadata": {},
   "outputs": [
    {
     "data": {
      "text/plain": [
       "dict_items([('name', 'reflector'), ('area', 'packaging'), ('usage', 'critical')])"
      ]
     },
     "execution_count": 406,
     "metadata": {},
     "output_type": "execute_result"
    }
   ],
   "source": [
    "parts.items()"
   ]
  },
  {
   "cell_type": "code",
   "execution_count": 407,
   "id": "deaf2fa8",
   "metadata": {},
   "outputs": [
    {
     "name": "stdout",
     "output_type": "stream",
     "text": [
      "name reflector\n",
      "area packaging\n",
      "usage critical\n"
     ]
    }
   ],
   "source": [
    "#loop through keya and value\n",
    "for key, value in parts.items():\n",
    "    print(key, value)"
   ]
  },
  {
   "cell_type": "code",
   "execution_count": 408,
   "id": "20cac724",
   "metadata": {},
   "outputs": [
    {
     "name": "stdout",
     "output_type": "stream",
     "text": [
      "name\n",
      "reflector \n",
      "\n",
      "area\n",
      "packaging \n",
      "\n",
      "usage\n",
      "critical \n",
      "\n"
     ]
    }
   ],
   "source": [
    "for key, value in parts.items():\n",
    "    print(key)\n",
    "    print(value, '\\n')"
   ]
  },
  {
   "cell_type": "code",
   "execution_count": 409,
   "id": "9e6f71da",
   "metadata": {},
   "outputs": [
    {
     "data": {
      "text/plain": [
       "['Clamp', 'Bearings', 'Orings', 'Valve', 'Reducer', 'Connector']"
      ]
     },
     "execution_count": 409,
     "metadata": {},
     "output_type": "execute_result"
    }
   ],
   "source": [
    "#list comprehension,... the . title capitalises first letter\n",
    "new_spares =[spare.title()for spare in spares]\n",
    "new_spares"
   ]
  },
  {
   "cell_type": "markdown",
   "id": "3dfd3eb3",
   "metadata": {},
   "source": [
    "# 4. functions"
   ]
  },
  {
   "cell_type": "code",
   "execution_count": 410,
   "id": "3732c209",
   "metadata": {},
   "outputs": [],
   "source": [
    "def spares_sop():\n",
    "    print('issue pysically')\n",
    "    print('issue on sap')\n",
    "    print('post work order')"
   ]
  },
  {
   "cell_type": "code",
   "execution_count": 411,
   "id": "b12fbdc2",
   "metadata": {},
   "outputs": [
    {
     "name": "stdout",
     "output_type": "stream",
     "text": [
      "issue pysically\n",
      "issue on sap\n",
      "post work order\n"
     ]
    }
   ],
   "source": [
    "spares_sop()"
   ]
  },
  {
   "cell_type": "code",
   "execution_count": 412,
   "id": "b62e5f91",
   "metadata": {},
   "outputs": [
    {
     "name": "stdout",
     "output_type": "stream",
     "text": [
      "issue pysically\n",
      "issue on sap\n",
      "post work order\n",
      "issue pysically\n",
      "issue on sap\n",
      "post work order\n",
      "issue pysically\n",
      "issue on sap\n",
      "post work order\n",
      "issue pysically\n",
      "issue on sap\n",
      "post work order\n",
      "issue pysically\n",
      "issue on sap\n",
      "post work order\n"
     ]
    }
   ],
   "source": [
    "for index in range (5):\n",
    "    spares_sop()"
   ]
  },
  {
   "cell_type": "code",
   "execution_count": 413,
   "id": "9cb7841d",
   "metadata": {},
   "outputs": [
    {
     "name": "stdout",
     "output_type": "stream",
     "text": [
      "issue pysically\n",
      "issue on sap\n",
      "post work order\n",
      "issue pysically\n",
      "issue on sap\n",
      "post work order\n",
      "issue pysically\n",
      "issue on sap\n",
      "post work order\n",
      "issue pysically\n",
      "issue on sap\n",
      "post work order\n",
      "issue pysically\n",
      "issue on sap\n",
      "post work order\n"
     ]
    }
   ],
   "source": [
    "#same as above so now lets create an easy condition\n",
    "for index in range (5):\n",
    "    print('issue pysically')\n",
    "    print('issue on sap')\n",
    "    print('post work order')"
   ]
  },
  {
   "cell_type": "code",
   "execution_count": 414,
   "id": "8dabcd32",
   "metadata": {},
   "outputs": [],
   "source": [
    "spares = ['clamp', 'bearings', 'orings', 'valve', 'reducer', 'connector']"
   ]
  },
  {
   "cell_type": "code",
   "execution_count": 415,
   "id": "04312163",
   "metadata": {},
   "outputs": [],
   "source": [
    "#position argument\n",
    "def custom_spares_sop(spare):\n",
    "    print('issue {} spare'.format(spare))"
   ]
  },
  {
   "cell_type": "code",
   "execution_count": 416,
   "id": "04f05844",
   "metadata": {},
   "outputs": [
    {
     "name": "stdout",
     "output_type": "stream",
     "text": [
      "issue reducer spare\n"
     ]
    }
   ],
   "source": [
    "custom_spares_sop(spare)"
   ]
  },
  {
   "cell_type": "code",
   "execution_count": 417,
   "id": "08450dd0",
   "metadata": {},
   "outputs": [
    {
     "name": "stdout",
     "output_type": "stream",
     "text": [
      "issue clamp spare\n",
      "issue bearings spare\n",
      "issue orings spare\n",
      "issue valve spare\n",
      "issue reducer spare\n",
      "issue connector spare\n"
     ]
    }
   ],
   "source": [
    "for spare in spares:\n",
    "    custom_spares_sop(spare)"
   ]
  },
  {
   "cell_type": "code",
   "execution_count": 418,
   "id": "7dc351c0",
   "metadata": {},
   "outputs": [],
   "source": [
    "#multiple position argument\n",
    "def custom_spares_sop(spare, recipient):\n",
    "    print('issue {} spare to {}'.format(spare, recipient))"
   ]
  },
  {
   "cell_type": "code",
   "execution_count": 419,
   "id": "a5ce7b65",
   "metadata": {},
   "outputs": [
    {
     "name": "stdout",
     "output_type": "stream",
     "text": [
      "issue clamp spare to otedo\n"
     ]
    }
   ],
   "source": [
    "custom_spares_sop('clamp', 'otedo')"
   ]
  },
  {
   "cell_type": "code",
   "execution_count": 420,
   "id": "238fd3ba",
   "metadata": {},
   "outputs": [],
   "source": [
    "recipient = ['fred', 'otedo', 'wilbroad', 'dennis', 'nicholas', 'joseph']"
   ]
  },
  {
   "cell_type": "code",
   "execution_count": 421,
   "id": "d71feb20",
   "metadata": {},
   "outputs": [
    {
     "name": "stdout",
     "output_type": "stream",
     "text": [
      "0 clamp\n",
      "1 bearings\n",
      "2 orings\n",
      "3 valve\n",
      "4 reducer\n",
      "5 connector\n"
     ]
    }
   ],
   "source": [
    "#helps get a loop and its index\n",
    "for index, spare in enumerate(spares):\n",
    "    print(index, spare)"
   ]
  },
  {
   "cell_type": "code",
   "execution_count": 422,
   "id": "1e5f2735",
   "metadata": {},
   "outputs": [
    {
     "name": "stdout",
     "output_type": "stream",
     "text": [
      "issue clamp spare to fred\n",
      "issue bearings spare to otedo\n",
      "issue orings spare to wilbroad\n",
      "issue valve spare to dennis\n",
      "issue reducer spare to nicholas\n",
      "issue connector spare to joseph\n"
     ]
    }
   ],
   "source": [
    "#used the enumerate function to get index for spare and receiver\n",
    "for index, spare in enumerate(spares):\n",
    "    receiver = recipient[index]\n",
    "    custom_spares_sop(spare, receiver)\n",
    "    "
   ]
  },
  {
   "cell_type": "code",
   "execution_count": 423,
   "id": "7af5d2ae",
   "metadata": {},
   "outputs": [],
   "source": [
    "def oem(vendor = 'khs'):\n",
    "    print('the vendor is {}'.format(vendor))"
   ]
  },
  {
   "cell_type": "code",
   "execution_count": 424,
   "id": "cc8013d8",
   "metadata": {},
   "outputs": [
    {
     "name": "stdout",
     "output_type": "stream",
     "text": [
      "the vendor is krones\n"
     ]
    }
   ],
   "source": [
    "oem(vendor = 'krones')"
   ]
  },
  {
   "cell_type": "code",
   "execution_count": 425,
   "id": "fd655c7d",
   "metadata": {},
   "outputs": [],
   "source": [
    "def oem_welcome(spare, receipient, vendor = 'khs'):\n",
    "    print('issue {} spare to {}, the vendor is {}'.format(spare, receipient, vendor))"
   ]
  },
  {
   "cell_type": "code",
   "execution_count": 426,
   "id": "dd5b3eb8",
   "metadata": {},
   "outputs": [
    {
     "name": "stdout",
     "output_type": "stream",
     "text": [
      "issue clamp spare to otedo, the vendor is khs\n"
     ]
    }
   ],
   "source": [
    "oem_welcome('clamp', 'otedo')"
   ]
  },
  {
   "cell_type": "code",
   "execution_count": 427,
   "id": "64c2b2fb",
   "metadata": {},
   "outputs": [],
   "source": [
    "#used to return values but not print\n",
    "def oem_welcome_with_return(spare, receipient, vendor = 'khs'):\n",
    "    return 'issue {} spare to {}, the vendor is {}'.format(spare, receipient, vendor)"
   ]
  },
  {
   "cell_type": "code",
   "execution_count": 428,
   "id": "5fcbf12b",
   "metadata": {},
   "outputs": [
    {
     "data": {
      "text/plain": [
       "'issue clamp spare to otedo, the vendor is khs'"
      ]
     },
     "execution_count": 428,
     "metadata": {},
     "output_type": "execute_result"
    }
   ],
   "source": [
    "oem_welcome_with_return('clamp', 'otedo')"
   ]
  },
  {
   "cell_type": "code",
   "execution_count": 429,
   "id": "e753bf30",
   "metadata": {},
   "outputs": [
    {
     "name": "stdout",
     "output_type": "stream",
     "text": [
      "issue clamp spare to otedo, the vendor is khs\n"
     ]
    }
   ],
   "source": [
    "#to store return\n",
    "issuing = oem_welcome_with_return('clamp', 'otedo')\n",
    "print(issuing)"
   ]
  },
  {
   "cell_type": "code",
   "execution_count": 430,
   "id": "656db8cf",
   "metadata": {},
   "outputs": [],
   "source": [
    "#lambda function\n",
    "pi = lambda x:x*3.14\n",
    "#pi=lambda x which shoukd return x * 3.14\n"
   ]
  },
  {
   "cell_type": "code",
   "execution_count": 431,
   "id": "091f8579",
   "metadata": {},
   "outputs": [
    {
     "data": {
      "text/plain": [
       "6.28"
      ]
     },
     "execution_count": 431,
     "metadata": {},
     "output_type": "execute_result"
    }
   ],
   "source": [
    "pi(2)"
   ]
  },
  {
   "cell_type": "code",
   "execution_count": 432,
   "id": "671cf008",
   "metadata": {},
   "outputs": [],
   "source": [
    "#now lets call the lambda function\n",
    "returnable = pi(2)"
   ]
  },
  {
   "cell_type": "code",
   "execution_count": 433,
   "id": "1beb3755",
   "metadata": {},
   "outputs": [
    {
     "name": "stdout",
     "output_type": "stream",
     "text": [
      "6.28\n"
     ]
    }
   ],
   "source": [
    "print(returnable)"
   ]
  },
  {
   "cell_type": "markdown",
   "id": "5a279eb4",
   "metadata": {},
   "source": [
    "# 5. Classes and inheritance"
   ]
  },
  {
   "cell_type": "code",
   "execution_count": 434,
   "id": "a515d086",
   "metadata": {},
   "outputs": [],
   "source": [
    "class person():\n",
    "    #init is initialisation-- note init has 2 underscore\n",
    "    def __init__(self, name, age, colour):\n",
    "        #now assign it to our class by reating attributes\n",
    "        self.name = name\n",
    "        self.age = age\n",
    "        self.colour = colour"
   ]
  },
  {
   "cell_type": "code",
   "execution_count": 439,
   "id": "c7092d07",
   "metadata": {},
   "outputs": [],
   "source": [
    "new_person = person('jane', 30, 'purple')"
   ]
  },
  {
   "cell_type": "code",
   "execution_count": 440,
   "id": "cc300d14",
   "metadata": {},
   "outputs": [
    {
     "data": {
      "text/plain": [
       "30"
      ]
     },
     "execution_count": 440,
     "metadata": {},
     "output_type": "execute_result"
    }
   ],
   "source": [
    "#running a method\n",
    "new_person.age"
   ]
  },
  {
   "cell_type": "code",
   "execution_count": 441,
   "id": "bdb042d2",
   "metadata": {},
   "outputs": [],
   "source": [
    "class person():\n",
    "    def __init__(self, name, age, colour):\n",
    "        self.name = name\n",
    "        self.age = age\n",
    "        self.colour = colour\n",
    "        \n",
    "        #date of birth method\n",
    "    def year_of_birth(self):\n",
    "        return 2022-self.age\n"
   ]
  },
  {
   "cell_type": "code",
   "execution_count": 442,
   "id": "61001fee",
   "metadata": {},
   "outputs": [
    {
     "data": {
      "text/plain": [
       "1992"
      ]
     },
     "execution_count": 442,
     "metadata": {},
     "output_type": "execute_result"
    }
   ],
   "source": [
    "#running a method\n",
    "new_person.year_of_birth()"
   ]
  },
  {
   "cell_type": "code",
   "execution_count": 443,
   "id": "c16315e0",
   "metadata": {},
   "outputs": [],
   "source": [
    "class person():\n",
    "    def __init__(self, name, age, colour):\n",
    "        self.name = name\n",
    "        self.age = age\n",
    "        self.colour = colour\n",
    "        \n",
    "    def year_of_birth(self):\n",
    "        return 2022-self.age\n",
    "    \n",
    "    def projected_age(self, years=5):\n",
    "        return self.age+years\n",
    "   "
   ]
  },
  {
   "cell_type": "code",
   "execution_count": null,
   "id": "07ba0f13",
   "metadata": {},
   "outputs": [],
   "source": [
    "new_person.projected_age(years=10)"
   ]
  },
  {
   "cell_type": "markdown",
   "id": "f8a97740",
   "metadata": {},
   "source": [
    "# 6.inheritance \n",
    "- parent is the class passing down atrributes and methods (person) an child class is the one inheriting (recipient)"
   ]
  },
  {
   "cell_type": "code",
   "execution_count": 444,
   "id": "2caaa1f0",
   "metadata": {},
   "outputs": [],
   "source": [
    "class person():\n",
    "    def __init__(self, name, age, colour):\n",
    "        self.name = name\n",
    "        self.age = age\n",
    "        self.colour = colour\n",
    "        \n",
    "    def year_of_birth(self):\n",
    "        return 2022-self.age\n",
    "    \n",
    "    def projected_age(self, years=5):\n",
    "        return self.age+years\n",
    "    \n",
    "new_person = person('jane', 30, 'purple')"
   ]
  },
  {
   "cell_type": "code",
   "execution_count": 445,
   "id": "60f44e4f",
   "metadata": {},
   "outputs": [],
   "source": [
    "#create child class\n",
    "class recipient(person):\n",
    "    def __init__(self, name, age, colour, company):\n",
    "        #set up our class to inherit from the parent\n",
    "        super().__init__(name, age, colour)\n",
    "        self.company = company\n",
    "    "
   ]
  },
  {
   "cell_type": "code",
   "execution_count": 446,
   "id": "3453e9d7",
   "metadata": {},
   "outputs": [],
   "source": [
    "new_recipient = recipient('judy', 30, 'black', 'amazon')"
   ]
  },
  {
   "cell_type": "code",
   "execution_count": 447,
   "id": "f748ad6a",
   "metadata": {},
   "outputs": [
    {
     "data": {
      "text/plain": [
       "'judy'"
      ]
     },
     "execution_count": 447,
     "metadata": {},
     "output_type": "execute_result"
    }
   ],
   "source": [
    "new_recipient.name"
   ]
  },
  {
   "cell_type": "code",
   "execution_count": 448,
   "id": "33bc720d",
   "metadata": {},
   "outputs": [
    {
     "data": {
      "text/plain": [
       "1992"
      ]
     },
     "execution_count": 448,
     "metadata": {},
     "output_type": "execute_result"
    }
   ],
   "source": [
    "new_recipient.year_of_birth()"
   ]
  },
  {
   "cell_type": "code",
   "execution_count": null,
   "id": "352f07fb",
   "metadata": {},
   "outputs": [],
   "source": []
  }
 ],
 "metadata": {
  "kernelspec": {
   "display_name": "Python 3 (ipykernel)",
   "language": "python",
   "name": "python3"
  },
  "language_info": {
   "codemirror_mode": {
    "name": "ipython",
    "version": 3
   },
   "file_extension": ".py",
   "mimetype": "text/x-python",
   "name": "python",
   "nbconvert_exporter": "python",
   "pygments_lexer": "ipython3",
   "version": "3.9.12"
  }
 },
 "nbformat": 4,
 "nbformat_minor": 5
}
