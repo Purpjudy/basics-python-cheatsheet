{
 "cells": [
  {
   "cell_type": "code",
   "execution_count": 1,
   "id": "742c328e",
   "metadata": {},
   "outputs": [
    {
     "data": {
      "text/plain": [
       "{'dept': 'Engineering', 'no_of_pple': 20, 'Awards': 'none'}"
      ]
     },
     "execution_count": 1,
     "metadata": {},
     "output_type": "execute_result"
    }
   ],
   "source": [
    "#used alot to create keys and assign values..... note dept is called a key and engineering is a value which is separated by a comma\n",
    "dict_variable = {'dept' : 'Engineering', 'no_of_pple' : 20, 'Awards' : 'none'}\n",
    "dict_variable"
   ]
  },
  {
   "cell_type": "code",
   "execution_count": 3,
   "id": "31adfa99",
   "metadata": {},
   "outputs": [
    {
     "data": {
      "text/plain": [
       "'Engineering'"
      ]
     },
     "execution_count": 3,
     "metadata": {},
     "output_type": "execute_result"
    }
   ],
   "source": [
    "#use square rackets to return values from the dictionary\n",
    "dict_variable['dept']"
   ]
  },
  {
   "cell_type": "code",
   "execution_count": 5,
   "id": "953a1ca9",
   "metadata": {},
   "outputs": [
    {
     "data": {
      "text/plain": [
       "(5, 3, 983, 443, 8373)"
      ]
     },
     "execution_count": 5,
     "metadata": {},
     "output_type": "execute_result"
    }
   ],
   "source": [
    "#how to convert a tuple into alist\n",
    "list = [5,3,983,443,8373]\n",
    "#conversion\n",
    "tuple(list)"
   ]
  },
  {
   "cell_type": "markdown",
   "id": "e8a5a83e",
   "metadata": {},
   "source": [
    "# 1.List"
   ]
  },
  {
   "cell_type": "code",
   "execution_count": 10,
   "id": "d2379b8f",
   "metadata": {},
   "outputs": [
    {
     "data": {
      "text/plain": [
       "['clamp', 'bearings', 'orings', 'valve', 'reducer', 'connector']"
      ]
     },
     "execution_count": 10,
     "metadata": {},
     "output_type": "execute_result"
    }
   ],
   "source": [
    "#create\n",
    "spares = ['clamp', 'bearings', 'orings', 'valve', 'reducer', 'connector']\n"
   ]
  },
  {
   "cell_type": "code",
   "execution_count": 11,
   "id": "c1d1965f",
   "metadata": {},
   "outputs": [
    {
     "data": {
      "text/plain": [
       "['clamp', 'bearings', 'orings', 'valve', 'reducer', 'connector']"
      ]
     },
     "execution_count": 11,
     "metadata": {},
     "output_type": "execute_result"
    }
   ],
   "source": [
    "#read\n",
    "spares"
   ]
  },
  {
   "cell_type": "code",
   "execution_count": 12,
   "id": "908b5ca0",
   "metadata": {},
   "outputs": [
    {
     "data": {
      "text/plain": [
       "'bearings'"
      ]
     },
     "execution_count": 12,
     "metadata": {},
     "output_type": "execute_result"
    }
   ],
   "source": [
    "spares[1]"
   ]
  },
  {
   "cell_type": "code",
   "execution_count": 13,
   "id": "1dbe12b1",
   "metadata": {},
   "outputs": [
    {
     "data": {
      "text/plain": [
       "'reducer'"
      ]
     },
     "execution_count": 13,
     "metadata": {},
     "output_type": "execute_result"
    }
   ],
   "source": [
    "spares[-2]"
   ]
  },
  {
   "cell_type": "code",
   "execution_count": null,
   "id": "2e8cbbd8",
   "metadata": {},
   "outputs": [],
   "source": [
    "#update"
   ]
  },
  {
   "cell_type": "code",
   "execution_count": 14,
   "id": "b7999013",
   "metadata": {},
   "outputs": [
    {
     "data": {
      "text/plain": [
       "['clamp', 'bearings', 'orings', 'valve', 'reducer', 'pump']"
      ]
     },
     "execution_count": 14,
     "metadata": {},
     "output_type": "execute_result"
    }
   ],
   "source": [
    "spares[-1] = 'pump'\n",
    "spares"
   ]
  },
  {
   "cell_type": "code",
   "execution_count": 15,
   "id": "24253b1a",
   "metadata": {},
   "outputs": [
    {
     "data": {
      "text/plain": [
       "['clamp', 'bearings', 'orings', 'valve', 'reducer', 'pump', 'connector']"
      ]
     },
     "execution_count": 15,
     "metadata": {},
     "output_type": "execute_result"
    }
   ],
   "source": [
    "#adding to list\n",
    "spares.append('connector')\n",
    "spares"
   ]
  },
  {
   "cell_type": "code",
   "execution_count": 24,
   "id": "b3b4da61",
   "metadata": {},
   "outputs": [
    {
     "data": {
      "text/plain": [
       "['clamp', 'bearings', 'orings', 'reflector', 'reducer', 'pump', 'connector']"
      ]
     },
     "execution_count": 24,
     "metadata": {},
     "output_type": "execute_result"
    }
   ],
   "source": [
    "spares.insert(3, 'reflector')\n",
    "spares"
   ]
  },
  {
   "cell_type": "code",
   "execution_count": 23,
   "id": "e574985b",
   "metadata": {},
   "outputs": [
    {
     "data": {
      "text/plain": [
       "['clamp', 'bearings', 'orings', 'reducer', 'pump', 'connector']"
      ]
     },
     "execution_count": 23,
     "metadata": {},
     "output_type": "execute_result"
    }
   ],
   "source": [
    "#delete\n",
    "del spares[3]\n",
    "spares"
   ]
  },
  {
   "cell_type": "markdown",
   "id": "ed4ca271",
   "metadata": {},
   "source": [
    "# 2.Dictionaries"
   ]
  },
  {
   "cell_type": "code",
   "execution_count": 27,
   "id": "2fdc9322",
   "metadata": {},
   "outputs": [],
   "source": [
    "#create\n",
    "parts = {\"name\" : \"reflector\", \n",
    "          \"area\" : \"packaging\", \n",
    "          \"usage\" : \"critical\"\n",
    "         }"
   ]
  },
  {
   "cell_type": "code",
   "execution_count": null,
   "id": "3331ba79",
   "metadata": {},
   "outputs": [],
   "source": [
    "#read"
   ]
  },
  {
   "cell_type": "code",
   "execution_count": 28,
   "id": "782156ea",
   "metadata": {},
   "outputs": [
    {
     "data": {
      "text/plain": [
       "{'name': 'reflector', 'area': 'packaging', 'usage': 'critical'}"
      ]
     },
     "execution_count": 28,
     "metadata": {},
     "output_type": "execute_result"
    }
   ],
   "source": [
    "parts"
   ]
  },
  {
   "cell_type": "code",
   "execution_count": 30,
   "id": "b09a96b1",
   "metadata": {},
   "outputs": [
    {
     "data": {
      "text/plain": [
       "'packaging'"
      ]
     },
     "execution_count": 30,
     "metadata": {},
     "output_type": "execute_result"
    }
   ],
   "source": [
    "parts['area']"
   ]
  },
  {
   "cell_type": "code",
   "execution_count": 31,
   "id": "1ed4171b",
   "metadata": {},
   "outputs": [
    {
     "data": {
      "text/plain": [
       "dict_keys(['name', 'area', 'usage'])"
      ]
     },
     "execution_count": 31,
     "metadata": {},
     "output_type": "execute_result"
    }
   ],
   "source": [
    "parts.keys()"
   ]
  },
  {
   "cell_type": "code",
   "execution_count": 32,
   "id": "e5eba4cd",
   "metadata": {},
   "outputs": [
    {
     "data": {
      "text/plain": [
       "dict_values(['reflector', 'packaging', 'critical'])"
      ]
     },
     "execution_count": 32,
     "metadata": {},
     "output_type": "execute_result"
    }
   ],
   "source": [
    "parts.values()"
   ]
  },
  {
   "cell_type": "code",
   "execution_count": null,
   "id": "9d542334",
   "metadata": {},
   "outputs": [],
   "source": [
    "#update"
   ]
  },
  {
   "cell_type": "code",
   "execution_count": 34,
   "id": "37f353c7",
   "metadata": {},
   "outputs": [],
   "source": [
    "parts['area'] = 'brewing'"
   ]
  },
  {
   "cell_type": "code",
   "execution_count": 35,
   "id": "df30cc98",
   "metadata": {},
   "outputs": [
    {
     "data": {
      "text/plain": [
       "{'name': 'reflector', 'area': 'brewing', 'usage': 'critical'}"
      ]
     },
     "execution_count": 35,
     "metadata": {},
     "output_type": "execute_result"
    }
   ],
   "source": [
    "parts"
   ]
  },
  {
   "cell_type": "code",
   "execution_count": 37,
   "id": "98951e49",
   "metadata": {},
   "outputs": [],
   "source": [
    "parts['ownership'] = 'engineering'"
   ]
  },
  {
   "cell_type": "code",
   "execution_count": 38,
   "id": "4a956e80",
   "metadata": {},
   "outputs": [
    {
     "data": {
      "text/plain": [
       "{'name': 'reflector',\n",
       " 'area': 'brewing',\n",
       " 'usage': 'critical',\n",
       " 'ownership': 'engineering'}"
      ]
     },
     "execution_count": 38,
     "metadata": {},
     "output_type": "execute_result"
    }
   ],
   "source": [
    "parts"
   ]
  },
  {
   "cell_type": "code",
   "execution_count": null,
   "id": "d04cf14d",
   "metadata": {},
   "outputs": [],
   "source": [
    "#delete"
   ]
  },
  {
   "cell_type": "code",
   "execution_count": 39,
   "id": "f4ca5308",
   "metadata": {},
   "outputs": [],
   "source": [
    "del parts['ownership']"
   ]
  },
  {
   "cell_type": "code",
   "execution_count": 40,
   "id": "58c5edea",
   "metadata": {},
   "outputs": [
    {
     "data": {
      "text/plain": [
       "{'name': 'reflector', 'area': 'brewing', 'usage': 'critical'}"
      ]
     },
     "execution_count": 40,
     "metadata": {},
     "output_type": "execute_result"
    }
   ],
   "source": [
    "parts"
   ]
  },
  {
   "cell_type": "markdown",
   "id": "6d82b330",
   "metadata": {},
   "source": [
    "# 3. Conditions and Logic"
   ]
  },
  {
   "cell_type": "code",
   "execution_count": 42,
   "id": "5451f608",
   "metadata": {},
   "outputs": [
    {
     "name": "stdout",
     "output_type": "stream",
     "text": [
      "best county\n"
     ]
    }
   ],
   "source": [
    "# IF statement... double == is a logical operator\n",
    "county = 'Nyeri'\n",
    "if county == 'Nyeri':\n",
    "    print('best county')"
   ]
  },
  {
   "cell_type": "code",
   "execution_count": 43,
   "id": "a263d1b2",
   "metadata": {},
   "outputs": [
    {
     "name": "stdout",
     "output_type": "stream",
     "text": [
      "number greater than 7\n"
     ]
    }
   ],
   "source": [
    "test_number = 16\n",
    "if test_number >= 7:\n",
    "    print('number greater than 7')"
   ]
  },
  {
   "cell_type": "code",
   "execution_count": 48,
   "id": "470e3c80",
   "metadata": {},
   "outputs": [
    {
     "name": "stdout",
     "output_type": "stream",
     "text": [
      "False\n"
     ]
    }
   ],
   "source": [
    "#note true and false should start in caps\n",
    "probability = 0.45\n",
    "if probability >= 0.5:\n",
    "    print(True)\n",
    "else:\n",
    "    print(False)"
   ]
  },
  {
   "cell_type": "code",
   "execution_count": 51,
   "id": "e55c3373",
   "metadata": {},
   "outputs": [
    {
     "name": "stdout",
     "output_type": "stream",
     "text": [
      "False\n"
     ]
    }
   ],
   "source": [
    "probability = 0.45\n",
    "if probability >= 0.5:\n",
    "    print(True)\n",
    "elif probability < 0:\n",
    "    print('check code')\n",
    "else:\n",
    "    print(False)"
   ]
  },
  {
   "cell_type": "code",
   "execution_count": 54,
   "id": "274c9f64",
   "metadata": {},
   "outputs": [
    {
     "name": "stdout",
     "output_type": "stream",
     "text": [
      "valve is here\n"
     ]
    }
   ],
   "source": [
    "#to check if something is in alist\n",
    "spares = ['clamp', 'bearings', 'orings', 'valve', 'reducer', 'connector']\n",
    "if'valve' in spares:\n",
    "    print('valve is here')"
   ]
  },
  {
   "cell_type": "markdown",
   "id": "317b3b32",
   "metadata": {},
   "source": [
    "# 4. Loops"
   ]
  },
  {
   "cell_type": "code",
   "execution_count": 68,
   "id": "bff23efa",
   "metadata": {},
   "outputs": [
    {
     "name": "stdout",
     "output_type": "stream",
     "text": [
      "clamp\n",
      "not packaging part\n",
      "KHS parts\n",
      "\n",
      "bearings\n",
      "not packaging part\n",
      "KHS parts\n",
      "\n",
      "orings\n",
      "capper\n",
      "\n",
      "valve\n",
      "not packaging part\n",
      "KHS parts\n",
      "\n",
      "reducer\n",
      "transomat\n"
     ]
    }
   ],
   "source": [
    "#for loop\n",
    "for spare in spares:\n",
    "    print(spare)\n",
    "    if spare == 'orings':\n",
    "        print('capper\\n')\n",
    "        # the slash n is for line spacing and use of continue is to continue with a loop\n",
    "        continue\n",
    "        \n",
    "    elif spare == 'reducer':\n",
    "        print('transomat')\n",
    "        #to stop a loop and that is why we have not printed connector\n",
    "        break\n",
    "        \n",
    "    else:\n",
    "        #for the loop to do nothing\n",
    "        pass\n",
    "        print('not packaging part')\n",
    "        #outside of if statemnet block    \n",
    "        print('KHS parts\\n')"
   ]
  },
  {
   "cell_type": "code",
   "execution_count": 72,
   "id": "3a137626",
   "metadata": {},
   "outputs": [
    {
     "name": "stdout",
     "output_type": "stream",
     "text": [
      "0\n",
      "1\n",
      "2\n",
      "3\n",
      "4\n",
      "5\n",
      "6\n",
      "7\n"
     ]
    }
   ],
   "source": [
    "#range ie a loop for an x number of times\n",
    "for index in range(8):\n",
    "    print(index)"
   ]
  },
  {
   "cell_type": "code",
   "execution_count": 73,
   "id": "bb2d0405",
   "metadata": {},
   "outputs": [
    {
     "name": "stdout",
     "output_type": "stream",
     "text": [
      "2\n",
      "3\n",
      "4\n",
      "5\n",
      "6\n",
      "7\n",
      "8\n",
      "9\n",
      "10\n",
      "11\n",
      "12\n",
      "13\n"
     ]
    }
   ],
   "source": [
    "for index in range(2,14):\n",
    "    print(index)"
   ]
  },
  {
   "cell_type": "code",
   "execution_count": 78,
   "id": "bfb079ad",
   "metadata": {},
   "outputs": [
    {
     "name": "stdout",
     "output_type": "stream",
     "text": [
      "consumed\n",
      "consumed\n",
      "consumed\n",
      "consumed\n",
      "consumed\n",
      "consumed\n",
      "consumed\n",
      "consumed\n",
      "consumed\n",
      "consumed\n",
      "consumed\n",
      "consumed\n",
      "consumed\n",
      "consumed\n",
      "consumed\n",
      "consumed\n",
      "all spares issued\n"
     ]
    }
   ],
   "source": [
    "#while\n",
    "spares_issued = 0\n",
    "total_spares = 16\n",
    "\n",
    "while True:\n",
    "    print ('consumed')\n",
    "    spares_issued += 1\n",
    "    \n",
    "    if spares_issued == total_spares:\n",
    "        print('all spares issued')\n",
    "        break"
   ]
  },
  {
   "cell_type": "code",
   "execution_count": 83,
   "id": "85525248",
   "metadata": {},
   "outputs": [
    {
     "name": "stdout",
     "output_type": "stream",
     "text": [
      "spare 1 consumed\n",
      "spare 2 consumed\n",
      "spare 3 consumed\n",
      "spare 4 consumed\n",
      "spare 5 consumed\n",
      "spare 6 consumed\n",
      "spare 7 consumed\n",
      "spare 8 consumed\n",
      "spare 9 consumed\n",
      "spare 10 consumed\n",
      "spare 11 consumed\n",
      "spare 12 consumed\n",
      "spare 13 consumed\n",
      "spare 14 consumed\n",
      "spare 15 consumed\n",
      "spare 16 consumed\n",
      "all spares issued\n"
     ]
    }
   ],
   "source": [
    "spares_issued = 0\n",
    "total_spares = 16\n",
    "#string formatting\n",
    "while True:#the .format is attached to strings\n",
    "    print ('spare {} consumed'.format(spares_issued+1))\n",
    "    spares_issued += 1\n",
    "    \n",
    "    if spares_issued == total_spares:\n",
    "        print('all spares issued')\n",
    "        break"
   ]
  },
  {
   "cell_type": "code",
   "execution_count": null,
   "id": "cb21a60f",
   "metadata": {},
   "outputs": [],
   "source": [
    "#loping through a dictionary\n",
    "parts = {\"name\" : \"reflector\", \n",
    "          \"area\" : \"packaging\", \n",
    "          \"usage\" : \"critical\"\n",
    "         }"
   ]
  },
  {
   "cell_type": "code",
   "execution_count": 85,
   "id": "08001fc9",
   "metadata": {},
   "outputs": [
    {
     "data": {
      "text/plain": [
       "dict_keys(['name', 'area', 'usage'])"
      ]
     },
     "execution_count": 85,
     "metadata": {},
     "output_type": "execute_result"
    }
   ],
   "source": [
    "parts.keys()"
   ]
  },
  {
   "cell_type": "code",
   "execution_count": 89,
   "id": "84a9bffa",
   "metadata": {},
   "outputs": [
    {
     "name": "stdout",
     "output_type": "stream",
     "text": [
      "name\n",
      "area\n",
      "usage\n"
     ]
    }
   ],
   "source": [
    "#looping through a keys\n",
    "for key in parts.keys():\n",
    "    print(key)"
   ]
  },
  {
   "cell_type": "code",
   "execution_count": 90,
   "id": "4f0e31f6",
   "metadata": {},
   "outputs": [
    {
     "data": {
      "text/plain": [
       "dict_values(['reflector', 'brewing', 'critical'])"
      ]
     },
     "execution_count": 90,
     "metadata": {},
     "output_type": "execute_result"
    }
   ],
   "source": [
    "parts.values()"
   ]
  },
  {
   "cell_type": "code",
   "execution_count": 91,
   "id": "02cf4d09",
   "metadata": {},
   "outputs": [
    {
     "name": "stdout",
     "output_type": "stream",
     "text": [
      "reflector\n",
      "brewing\n",
      "critical\n"
     ]
    }
   ],
   "source": [
    "for value in parts.values():\n",
    "    print(value)"
   ]
  },
  {
   "cell_type": "code",
   "execution_count": 92,
   "id": "e68f8817",
   "metadata": {},
   "outputs": [
    {
     "data": {
      "text/plain": [
       "dict_items([('name', 'reflector'), ('area', 'brewing'), ('usage', 'critical')])"
      ]
     },
     "execution_count": 92,
     "metadata": {},
     "output_type": "execute_result"
    }
   ],
   "source": [
    "parts.items()"
   ]
  },
  {
   "cell_type": "code",
   "execution_count": 93,
   "id": "a7e3b376",
   "metadata": {},
   "outputs": [
    {
     "name": "stdout",
     "output_type": "stream",
     "text": [
      "name reflector\n",
      "area brewing\n",
      "usage critical\n"
     ]
    }
   ],
   "source": [
    "#loop through keya and value\n",
    "for key, value in parts.items():\n",
    "    print(key, value)"
   ]
  },
  {
   "cell_type": "code",
   "execution_count": 94,
   "id": "10939ccb",
   "metadata": {},
   "outputs": [
    {
     "name": "stdout",
     "output_type": "stream",
     "text": [
      "name\n",
      "reflector \n",
      "\n",
      "area\n",
      "brewing \n",
      "\n",
      "usage\n",
      "critical \n",
      "\n"
     ]
    }
   ],
   "source": [
    "for key, value in parts.items():\n",
    "    print(key)\n",
    "    print(value, '\\n')"
   ]
  },
  {
   "cell_type": "code",
   "execution_count": 97,
   "id": "18a2a76d",
   "metadata": {},
   "outputs": [
    {
     "data": {
      "text/plain": [
       "['Clamp', 'Bearings', 'Orings', 'Valve', 'Reducer', 'Connector']"
      ]
     },
     "execution_count": 97,
     "metadata": {},
     "output_type": "execute_result"
    }
   ],
   "source": [
    "#list comprehension,... the . title capitalises first letter\n",
    "new_spares =[spare.title()for spare in spares]\n",
    "new_spares"
   ]
  },
  {
   "cell_type": "markdown",
   "id": "9de4074a",
   "metadata": {},
   "source": [
    "# 4. functions"
   ]
  },
  {
   "cell_type": "code",
   "execution_count": 107,
   "id": "32eb9632",
   "metadata": {},
   "outputs": [],
   "source": [
    "def spares_sop():\n",
    "    print('issue pysically')\n",
    "    print('issue on sap')\n",
    "    print('post work order')"
   ]
  },
  {
   "cell_type": "code",
   "execution_count": 108,
   "id": "e0b1557f",
   "metadata": {},
   "outputs": [
    {
     "name": "stdout",
     "output_type": "stream",
     "text": [
      "issue pysically\n",
      "issue on sap\n",
      "post work order\n"
     ]
    }
   ],
   "source": [
    "spares_sop()"
   ]
  },
  {
   "cell_type": "code",
   "execution_count": 111,
   "id": "1cd3ef29",
   "metadata": {},
   "outputs": [
    {
     "name": "stdout",
     "output_type": "stream",
     "text": [
      "issue pysically\n",
      "issue on sap\n",
      "post work order\n",
      "issue pysically\n",
      "issue on sap\n",
      "post work order\n",
      "issue pysically\n",
      "issue on sap\n",
      "post work order\n",
      "issue pysically\n",
      "issue on sap\n",
      "post work order\n",
      "issue pysically\n",
      "issue on sap\n",
      "post work order\n"
     ]
    }
   ],
   "source": [
    "for index in range (5):\n",
    "    spares_sop()"
   ]
  },
  {
   "cell_type": "code",
   "execution_count": 112,
   "id": "91ecf0c1",
   "metadata": {},
   "outputs": [
    {
     "name": "stdout",
     "output_type": "stream",
     "text": [
      "issue pysically\n",
      "issue on sap\n",
      "post work order\n",
      "issue pysically\n",
      "issue on sap\n",
      "post work order\n",
      "issue pysically\n",
      "issue on sap\n",
      "post work order\n",
      "issue pysically\n",
      "issue on sap\n",
      "post work order\n",
      "issue pysically\n",
      "issue on sap\n",
      "post work order\n"
     ]
    }
   ],
   "source": [
    "#same as above so now lets create an easy condition\n",
    "for index in range (5):\n",
    "    print('issue pysically')\n",
    "    print('issue on sap')\n",
    "    print('post work order')"
   ]
  },
  {
   "cell_type": "code",
   "execution_count": 214,
   "id": "85fb2c16",
   "metadata": {},
   "outputs": [],
   "source": [
    "spares = ['clamp', 'bearings', 'orings', 'valve', 'reducer', 'connector']"
   ]
  },
  {
   "cell_type": "code",
   "execution_count": 215,
   "id": "68ce113a",
   "metadata": {},
   "outputs": [],
   "source": [
    "#position argument\n",
    "def custom_spares_sop(spare):\n",
    "    print('issue {} spare'.format(spare))"
   ]
  },
  {
   "cell_type": "code",
   "execution_count": 216,
   "id": "a6d5c61f",
   "metadata": {},
   "outputs": [
    {
     "name": "stdout",
     "output_type": "stream",
     "text": [
      "issue clamp spare\n"
     ]
    }
   ],
   "source": [
    "custom_spares_sop(spare)"
   ]
  },
  {
   "cell_type": "code",
   "execution_count": 217,
   "id": "95aa11b4",
   "metadata": {},
   "outputs": [
    {
     "name": "stdout",
     "output_type": "stream",
     "text": [
      "issue clamp spare\n",
      "issue bearings spare\n",
      "issue orings spare\n",
      "issue valve spare\n",
      "issue reducer spare\n",
      "issue connector spare\n"
     ]
    }
   ],
   "source": [
    "for spare in spares:\n",
    "    custom_spares_sop(spare)"
   ]
  },
  {
   "cell_type": "code",
   "execution_count": 218,
   "id": "4f9d8c40",
   "metadata": {},
   "outputs": [],
   "source": [
    "#multiple position argument\n",
    "def custom_spares_sop(spare, recipient):\n",
    "    print('issue {} spare to {}'.format(spare, recipient))"
   ]
  },
  {
   "cell_type": "code",
   "execution_count": 219,
   "id": "1adbc6ec",
   "metadata": {},
   "outputs": [
    {
     "name": "stdout",
     "output_type": "stream",
     "text": [
      "issue clamp spare to otedo\n"
     ]
    }
   ],
   "source": [
    "custom_spares_sop('clamp', 'otedo')"
   ]
  },
  {
   "cell_type": "code",
   "execution_count": null,
   "id": "82f1b8a4",
   "metadata": {},
   "outputs": [],
   "source": [
    "recipient = ['fred', 'otedo', 'wilbroad', 'dennis', 'nicholas', 'joseph']"
   ]
  },
  {
   "cell_type": "code",
   "execution_count": 223,
   "id": "d87e5e7a",
   "metadata": {},
   "outputs": [
    {
     "name": "stdout",
     "output_type": "stream",
     "text": [
      "0 clamp\n",
      "1 bearings\n",
      "2 orings\n",
      "3 valve\n",
      "4 reducer\n",
      "5 connector\n"
     ]
    }
   ],
   "source": [
    "#helps get a loop and its index\n",
    "for index, spare in enumerate(spares):\n",
    "    print(index, spare)"
   ]
  },
  {
   "cell_type": "code",
   "execution_count": 243,
   "id": "407dd059",
   "metadata": {},
   "outputs": [
    {
     "name": "stdout",
     "output_type": "stream",
     "text": [
      "issue clamp spare to fred\n",
      "issue bearings spare to otedo\n",
      "issue orings spare to wilbroad\n",
      "issue valve spare to dennis\n",
      "issue reducer spare to nicholas\n",
      "issue connector spare to joseph\n"
     ]
    }
   ],
   "source": [
    "#used the enumerate function to get index for spare and receiver\n",
    "for index, spare in enumerate(spares):\n",
    "    receiver = recipient[index]\n",
    "    custom_spares_sop(spare, receiver)\n",
    "    "
   ]
  },
  {
   "cell_type": "code",
   "execution_count": 244,
   "id": "ab406492",
   "metadata": {},
   "outputs": [],
   "source": [
    "def oem(vendor = 'khs'):\n",
    "    print('the vendor is {}'.format(vendor))"
   ]
  },
  {
   "cell_type": "code",
   "execution_count": 245,
   "id": "e3e7b541",
   "metadata": {},
   "outputs": [
    {
     "name": "stdout",
     "output_type": "stream",
     "text": [
      "the vendor is krones\n"
     ]
    }
   ],
   "source": [
    "oem(vendor = 'krones')"
   ]
  },
  {
   "cell_type": "code",
   "execution_count": 246,
   "id": "803b185d",
   "metadata": {},
   "outputs": [],
   "source": [
    "def oem_welcome(spare, receipient, vendor = 'khs'):\n",
    "    print('issue {} spare to {}, the vendor is {}'.format(spare, receipient, vendor))"
   ]
  },
  {
   "cell_type": "code",
   "execution_count": 247,
   "id": "b514c89a",
   "metadata": {},
   "outputs": [
    {
     "name": "stdout",
     "output_type": "stream",
     "text": [
      "issue clamp spare to otedo, the vendor is khs\n"
     ]
    }
   ],
   "source": [
    "oem_welcome('clamp', 'otedo')"
   ]
  },
  {
   "cell_type": "code",
   "execution_count": 248,
   "id": "63ebddc1",
   "metadata": {},
   "outputs": [],
   "source": [
    "#used to return values but not print\n",
    "def oem_welcome_with_return(spare, receipient, vendor = 'khs'):\n",
    "    return 'issue {} spare to {}, the vendor is {}'.format(spare, receipient, vendor)"
   ]
  },
  {
   "cell_type": "code",
   "execution_count": 249,
   "id": "5caca856",
   "metadata": {},
   "outputs": [
    {
     "data": {
      "text/plain": [
       "'issue clamp spare to otedo, the vendor is khs'"
      ]
     },
     "execution_count": 249,
     "metadata": {},
     "output_type": "execute_result"
    }
   ],
   "source": [
    "oem_welcome_with_return('clamp', 'otedo')"
   ]
  },
  {
   "cell_type": "code",
   "execution_count": 250,
   "id": "987685b8",
   "metadata": {},
   "outputs": [
    {
     "name": "stdout",
     "output_type": "stream",
     "text": [
      "issue clamp spare to otedo, the vendor is khs\n"
     ]
    }
   ],
   "source": [
    "#to store return\n",
    "issuing = oem_welcome_with_return('clamp', 'otedo')\n",
    "print(issuing)"
   ]
  },
  {
   "cell_type": "code",
   "execution_count": 255,
   "id": "024ac5f9",
   "metadata": {},
   "outputs": [],
   "source": [
    "#lambda function\n",
    "pi = lambda x:x*3.14\n",
    "#pi=lambda x which shoukd return x * 3.14\n"
   ]
  },
  {
   "cell_type": "code",
   "execution_count": 256,
   "id": "c87b50e5",
   "metadata": {},
   "outputs": [
    {
     "data": {
      "text/plain": [
       "6.28"
      ]
     },
     "execution_count": 256,
     "metadata": {},
     "output_type": "execute_result"
    }
   ],
   "source": [
    "pi(2)"
   ]
  },
  {
   "cell_type": "code",
   "execution_count": 257,
   "id": "d2bdd680",
   "metadata": {},
   "outputs": [],
   "source": [
    "#now lets call the lambda function\n",
    "returnable = pi(2)"
   ]
  },
  {
   "cell_type": "code",
   "execution_count": 258,
   "id": "e76993ae",
   "metadata": {},
   "outputs": [
    {
     "name": "stdout",
     "output_type": "stream",
     "text": [
      "6.28\n"
     ]
    }
   ],
   "source": [
    "print(returnable)"
   ]
  },
  {
   "cell_type": "markdown",
   "id": "af621cfc",
   "metadata": {},
   "source": [
    "# 5. Classes and inheritance"
   ]
  },
  {
   "cell_type": "code",
   "execution_count": 311,
   "id": "b9ce87ba",
   "metadata": {},
   "outputs": [],
   "source": [
    "class person():\n",
    "    #init is initialisation-- note init has 2 underscore\n",
    "    def __init__(self, name, age, colour):\n",
    "        #now assign it to our class by reating attributes\n",
    "        self.name = name\n",
    "        self.age = age\n",
    "        self.colour = colour"
   ]
  },
  {
   "cell_type": "code",
   "execution_count": 312,
   "id": "99ab76a9",
   "metadata": {},
   "outputs": [],
   "source": [
    "new_person = person('jane', 30, 'purple')"
   ]
  },
  {
   "cell_type": "code",
   "execution_count": 313,
   "id": "2b8df220",
   "metadata": {},
   "outputs": [
    {
     "data": {
      "text/plain": [
       "30"
      ]
     },
     "execution_count": 313,
     "metadata": {},
     "output_type": "execute_result"
    }
   ],
   "source": [
    "new_person.age"
   ]
  },
  {
   "cell_type": "code",
   "execution_count": 318,
   "id": "47c396f0",
   "metadata": {},
   "outputs": [],
   "source": [
    "class person():\n",
    "    def __init__(self, name, age, colour):\n",
    "        self.name = name\n",
    "        self.age = age\n",
    "        self.colour = colour\n",
    "        \n",
    "        #date of birth method\n",
    "    def year_of_birth(self):\n",
    "        return 2022-self.age"
   ]
  },
  {
   "cell_type": "code",
   "execution_count": 319,
   "id": "6b173360",
   "metadata": {},
   "outputs": [
    {
     "ename": "AttributeError",
     "evalue": "'person' object has no attribute 'year_of_birth'",
     "output_type": "error",
     "traceback": [
      "\u001b[1;31m---------------------------------------------------------------------------\u001b[0m",
      "\u001b[1;31mAttributeError\u001b[0m                            Traceback (most recent call last)",
      "Input \u001b[1;32mIn [319]\u001b[0m, in \u001b[0;36m<cell line: 1>\u001b[1;34m()\u001b[0m\n\u001b[1;32m----> 1\u001b[0m \u001b[43mnew_person\u001b[49m\u001b[38;5;241;43m.\u001b[39;49m\u001b[43myear_of_birth\u001b[49m()\n",
      "\u001b[1;31mAttributeError\u001b[0m: 'person' object has no attribute 'year_of_birth'"
     ]
    }
   ],
   "source": [
    "new_person.year_of_birth()"
   ]
  },
  {
   "cell_type": "code",
   "execution_count": 301,
   "id": "88b4d1b9",
   "metadata": {},
   "outputs": [],
   "source": [
    "class person():\n",
    "    def __init__(self, name, age, colour):\n",
    "        self.name = name\n",
    "        self.age = age\n",
    "        self.colour = colour\n",
    "        \n",
    "    def year_of_birth(self):\n",
    "        return 2022-self.age\n",
    "    \n",
    "    def projected_age(self, years=5):\n",
    "        return self.age+years"
   ]
  },
  {
   "cell_type": "code",
   "execution_count": 298,
   "id": "b58edb3f",
   "metadata": {},
   "outputs": [
    {
     "ename": "AttributeError",
     "evalue": "'person' object has no attribute 'projected_age'",
     "output_type": "error",
     "traceback": [
      "\u001b[1;31m---------------------------------------------------------------------------\u001b[0m",
      "\u001b[1;31mAttributeError\u001b[0m                            Traceback (most recent call last)",
      "Input \u001b[1;32mIn [298]\u001b[0m, in \u001b[0;36m<cell line: 1>\u001b[1;34m()\u001b[0m\n\u001b[1;32m----> 1\u001b[0m \u001b[43mnew_person\u001b[49m\u001b[38;5;241;43m.\u001b[39;49m\u001b[43mprojected_age\u001b[49m(years\u001b[38;5;241m=\u001b[39m\u001b[38;5;241m10\u001b[39m)\n",
      "\u001b[1;31mAttributeError\u001b[0m: 'person' object has no attribute 'projected_age'"
     ]
    }
   ],
   "source": [
    "new_person.projected_age(years=10)"
   ]
  },
  {
   "cell_type": "markdown",
   "id": "c6103eb8",
   "metadata": {},
   "source": [
    "# 6.inheritance \n",
    "- parent is the class passing down atrributes and methods (person) an child class is the one inheriting (recipient)"
   ]
  },
  {
   "cell_type": "code",
   "execution_count": null,
   "id": "dc440b53",
   "metadata": {},
   "outputs": [],
   "source": []
  },
  {
   "cell_type": "code",
   "execution_count": null,
   "id": "cef3ec36",
   "metadata": {},
   "outputs": [],
   "source": []
  },
  {
   "cell_type": "code",
   "execution_count": null,
   "id": "d1fb658c",
   "metadata": {},
   "outputs": [],
   "source": []
  },
  {
   "cell_type": "code",
   "execution_count": null,
   "id": "8e67dfb5",
   "metadata": {},
   "outputs": [],
   "source": []
  },
  {
   "cell_type": "code",
   "execution_count": null,
   "id": "d899a98e",
   "metadata": {},
   "outputs": [],
   "source": []
  }
 ],
 "metadata": {
  "kernelspec": {
   "display_name": "Python 3 (ipykernel)",
   "language": "python",
   "name": "python3"
  },
  "language_info": {
   "codemirror_mode": {
    "name": "ipython",
    "version": 3
   },
   "file_extension": ".py",
   "mimetype": "text/x-python",
   "name": "python",
   "nbconvert_exporter": "python",
   "pygments_lexer": "ipython3",
   "version": "3.9.12"
  }
 },
 "nbformat": 4,
 "nbformat_minor": 5
}
